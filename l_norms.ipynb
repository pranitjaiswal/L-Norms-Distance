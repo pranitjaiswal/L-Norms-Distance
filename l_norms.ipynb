{
 "cells": [
  {
   "cell_type": "code",
   "execution_count": 1,
   "metadata": {},
   "outputs": [],
   "source": [
    "import numpy as np\n",
    "import matplotlib.pyplot as plt"
   ]
  },
  {
   "cell_type": "code",
   "execution_count": 2,
   "metadata": {},
   "outputs": [],
   "source": [
    "X = np.array([1, 2, 3])"
   ]
  },
  {
   "cell_type": "code",
   "execution_count": 3,
   "metadata": {},
   "outputs": [],
   "source": [
    "y = np.array([1, 2, 3])"
   ]
  },
  {
   "cell_type": "code",
   "execution_count": 4,
   "metadata": {},
   "outputs": [
    {
     "data": {
      "text/plain": [
       "<matplotlib.collections.PathCollection at 0x2ae1a30d7f0>"
      ]
     },
     "execution_count": 4,
     "metadata": {},
     "output_type": "execute_result"
    },
    {
     "data": {
      "image/png": "[encoded data removed]",
      "text/plain": [
       "<Figure size 432x288 with 1 Axes>"
      ]
     },
     "metadata": {
      "needs_background": "light"
     },
     "output_type": "display_data"
    }
   ],
   "source": [
    "plt.scatter(X, y)"
   ]
  },
  {
   "cell_type": "code",
   "execution_count": 5,
   "metadata": {},
   "outputs": [
    {
     "name": "stdout",
     "output_type": "stream",
     "text": [
      "[-1.         -0.91836735 -0.83673469 -0.75510204 -0.67346939 -0.59183673\n",
      " -0.51020408 -0.42857143 -0.34693878 -0.26530612 -0.18367347 -0.10204082\n",
      " -0.02040816  0.06122449  0.14285714  0.2244898   0.30612245  0.3877551\n",
      "  0.46938776  0.55102041  0.63265306  0.71428571  0.79591837  0.87755102\n",
      "  0.95918367  1.04081633  1.12244898  1.20408163  1.28571429  1.36734694\n",
      "  1.44897959  1.53061224  1.6122449   1.69387755  1.7755102   1.85714286\n",
      "  1.93877551  2.02040816  2.10204082  2.18367347  2.26530612  2.34693878\n",
      "  2.42857143  2.51020408  2.59183673  2.67346939  2.75510204  2.83673469\n",
      "  2.91836735  3.        ]\n"
     ]
    },
    {
     "data": {
      "text/plain": [
       "<matplotlib.collections.PathCollection at 0x2ae1a3c7d30>"
      ]
     },
     "execution_count": 5,
     "metadata": {},
     "output_type": "execute_result"
    },
    {
     "data": {
      "image/png": "[encoded data removed]",
      "text/plain": [
       "<Figure size 432x288 with 1 Axes>"
      ]
     },
     "metadata": {
      "needs_background": "light"
     },
     "output_type": "display_data"
    }
   ],
   "source": [
    "beta = np.linspace(-1, 3, num = 50)\n",
    "\n",
    "print(beta)\n",
    "\n",
    "J = np.zeros(beta.shape)\n",
    "\n",
    "for i in range(0, len(beta)): \n",
    "    J[i] = (1/ 2 * len(X)) * np.sum(np.square(beta[i] * X - y))\n",
    "\n",
    "plt.scatter(beta, J)"
   ]
  },
  {
   "cell_type": "code",
   "execution_count": 6,
   "metadata": {},
   "outputs": [],
   "source": [
    "def lnorm(x, order):\n",
    "    norm = pow(np.sum(pow(abs(x), order)), (1 / order))\n",
    "    norm_func = np.linalg.norm(x, ord = order)\n",
    "    print('L1 norm user-defined is {0} and using numpy function is {1}'.format(norm, norm_func))"
   ]
  },
  {
   "cell_type": "code",
   "execution_count": 7,
   "metadata": {},
   "outputs": [],
   "source": [
    "X = np.array([1, 2, 3])"
   ]
  },
  {
   "cell_type": "code",
   "execution_count": 8,
   "metadata": {},
   "outputs": [
    {
     "name": "stdout",
     "output_type": "stream",
     "text": [
      "L1 norm user-defined is 6.0 and using numpy function is 6.0\n",
      "L1 norm user-defined is 3.7416573867739413 and using numpy function is 3.7416573867739413\n",
      "L1 norm user-defined is 3.3019272488946263 and using numpy function is 3.3019272488946263\n",
      "L1 norm user-defined is 3.1463462836457885 and using numpy function is 3.1463462836457885\n",
      "L1 norm user-defined is 3.077384885394063 and using numpy function is 3.077384885394063\n"
     ]
    }
   ],
   "source": [
    "lnorm(X, 1)\n",
    "lnorm(X, 2)\n",
    "lnorm(X, 3)\n",
    "lnorm(X, 4)\n",
    "lnorm(X, 5)"
   ]
  },
  {
   "cell_type": "code",
   "execution_count": null,
   "metadata": {},
   "outputs": [],
   "source": []
  }
 ],
 "metadata": {
  "kernelspec": {
   "display_name": "Python 3",
   "language": "python",
   "name": "python3"
  },
  "language_info": {
   "codemirror_mode": {
    "name": "ipython",
    "version": 3
   },
   "file_extension": ".py",
   "mimetype": "text/x-python",
   "name": "python",
   "nbconvert_exporter": "python",
   "pygments_lexer": "ipython3",
   "version": "3.7.3"
  }
 },
 "nbformat": 4,
 "nbformat_minor": 2
}
